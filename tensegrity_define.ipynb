{
 "cells": [
  {
   "cell_type": "code",
   "execution_count": 15,
   "metadata": {},
   "outputs": [],
   "source": [
    "import xml.etree.ElementTree as ET\n",
    "import re\n",
    "from typing import Optional\n",
    "import numpy as np\n",
    "import matplotlib.pyplot as plt"
   ]
  },
  {
   "cell_type": "markdown",
   "metadata": {},
   "source": [
    "# 常量定义"
   ]
  },
  {
   "cell_type": "code",
   "execution_count": 16,
   "metadata": {},
   "outputs": [],
   "source": [
    "# 常量\n",
    "xml_path = \"./xml/TT_test.xml\"\n",
    "rod_length = 1"
   ]
  },
  {
   "cell_type": "markdown",
   "metadata": {},
   "source": [
    "# Utilities"
   ]
  },
  {
   "cell_type": "code",
   "execution_count": 17,
   "metadata": {},
   "outputs": [],
   "source": [
    "# 优化代码格式，写完xml后，运行该函数，使xml文件更易读\n",
    "def prettify(elem, level=0):\n",
    "    indent = \"\\n\" + level*\"  \"\n",
    "    if len(elem):\n",
    "        if not elem.text or not elem.text.strip():\n",
    "            elem.text = indent + \"  \"\n",
    "        if not elem.tail or not elem.tail.strip():\n",
    "            elem.tail = indent\n",
    "        for elem in elem:\n",
    "            prettify(elem, level+1)\n",
    "        if not elem.tail or not elem.tail.strip():\n",
    "            elem.tail = indent\n",
    "    else:\n",
    "        if level and (not elem.tail or not elem.tail.strip()):\n",
    "            elem.tail = indent\n",
    "\n",
    "# 指定杆名字和两端坐标，在文件中生成杆件\n",
    "def generate_rod_element(root, rod_name:str, fromto_coords, mass:Optional[str]=None, rod_radius='0.014'):\n",
    "    assert len(fromto_coords) == 6 and all(isinstance(coord, (int, float)) for coord in fromto_coords), \"fromto_coords必须是包含六个数字的列表\"\n",
    "    match = re.match(r\"rod(\\d+)_(\\d+)\", rod_name)\n",
    "    assert match, \"rod_name必须符合rodx_y的格式\"\n",
    "    assert mass is None or (isinstance(mass, str) and mass.isdigit()), \"mass must be a string representing a number\"\n",
    "    \n",
    "    x_str = match.group(1)\n",
    "    y_str = match.group(2)\n",
    "    x_str = str(x_str)\n",
    "    y_str = str(y_str)\n",
    "    \n",
    "    fromto_coords_str = \"{} {} {} {} {} {}\".format(fromto_coords[0], fromto_coords[1], fromto_coords[2], fromto_coords[3], fromto_coords[4], fromto_coords[5])\n",
    "    from_point_coords_str =  \"{} {} {}\".format(fromto_coords[0], fromto_coords[1], fromto_coords[2])\n",
    "    to_point_coords_str =  \"{} {} {}\".format(fromto_coords[3], fromto_coords[4], fromto_coords[5])\n",
    "    \n",
    "    midpoint_coords = [(fromto_coords[0] + fromto_coords[3]) / 2, \n",
    "                   (fromto_coords[1] + fromto_coords[4]) / 2, \n",
    "                   (fromto_coords[2] + fromto_coords[5]) / 2]\n",
    "    midpoint_coords_str = \"{} {} {}\".format(midpoint_coords[0], midpoint_coords[1], midpoint_coords[2])\n",
    "    \n",
    "    new_body = ET.Element('body')\n",
    "    new_body.set('name', rod_name)\n",
    "    new_body.set('pos', midpoint_coords_str)\n",
    "\n",
    "    joint = ET.Element('joint')\n",
    "    joint.set('type', 'free')\n",
    "    joint.set('name', 'joint' + x_str + '_' + y_str)\n",
    "\n",
    "    geom = ET.Element('geom')\n",
    "    geom.set('name', 'geom' + x_str + '_' + y_str)\n",
    "    geom.set('type', 'cylinder')\n",
    "    geom.set('fromto', fromto_coords_str)\n",
    "    if mass is not None:\n",
    "        geom.set('mass', mass)\n",
    "    else:\n",
    "        geom.set('density', '1000')\n",
    "    geom.set('size', rod_radius)\n",
    "\n",
    "    site1 = ET.Element('site')\n",
    "    site1.set('name', 's' + x_str)\n",
    "    site1.set('pos', from_point_coords_str)\n",
    "\n",
    "    site2 = ET.Element('site')\n",
    "    site2.set('name', 's' + y_str)\n",
    "    site2.set('pos', to_point_coords_str)\n",
    "\n",
    "    new_body.append(joint)\n",
    "    new_body.append(geom)\n",
    "    new_body.append(site1)\n",
    "    new_body.append(site2)\n",
    "    # 将新的<body>子元素添加到<worldbody>的最后\n",
    "    worldbody = root.find('worldbody')\n",
    "    worldbody.append(new_body)\n",
    "\n",
    "# 指定绳索两端的点，在文件中生成绳索\n",
    "def generate_tendon_object(root, from_site_name:str, to_site_name:str, stiffness:Optional[str]=None):\n",
    "    match1 = re.match(r\"s(\\d)\", from_site_name)\n",
    "    assert match1, \"from_site_name必须符合sx的格式\"\n",
    "    match2 = re.match(r\"s(\\d)\", to_site_name)\n",
    "    assert match2, \"to_site_name必须符合sx的格式\"\n",
    "    assert stiffness is None or (isinstance(stiffness, str) and stiffness.isdigit()), \"stiffness must be a string representing a number\"\n",
    "\n",
    "    x_str = match1.group(1)\n",
    "    y_str = match2.group(1)\n",
    "    x_str = str(x_str)\n",
    "    y_str = str(y_str)\n",
    "\n",
    "    new_spatial = ET.Element('spatial')\n",
    "    new_spatial.set('name', 'td' + x_str + '_' + y_str)\n",
    "\n",
    "    if stiffness is not None:\n",
    "        new_spatial.set('stiffness', stiffness)\n",
    "\n",
    "    site1 = ET.Element('site')\n",
    "    site1.set('site', from_site_name)\n",
    "\n",
    "    site2 = ET.Element('site')\n",
    "    site2.set('site', to_site_name)\n",
    "\n",
    "    new_spatial.append(site1)\n",
    "    new_spatial.append(site2)\n",
    "\n",
    "    tendon = root.find('tendon')\n",
    "    tendon.append(new_spatial)\n",
    "\n",
    "# 删除指定的物体\n",
    "def remove_body(root, body_name):\n",
    "    for body in root.iter('body'):\n",
    "        if body.get('name') == body_name:\n",
    "            for worldbody in root.iter('worldbody'):\n",
    "                worldbody.remove(body)\n",
    "            print(f\"成功移除名称为{body_name}的body元素及其所有子元素。\")\n",
    "            return\n",
    "    print(f\"未找到名称为{body_name}的body元素。\")\n",
    "\n",
    "# 删除所有的物体\n",
    "def remove_all_body(root):\n",
    "    worldbody = root.find('worldbody')\n",
    "    bodies = list(worldbody.iter('body'))\n",
    "    for body in bodies:\n",
    "        worldbody.remove(body)\n",
    "\n",
    "# 删除指定的绳索\n",
    "def remove_tendon(root, spatial_name):\n",
    "    for spatial in root.iter('spatial'):\n",
    "        if spatial.get('name') == spatial_name:\n",
    "            tendon = root.find('tendon')\n",
    "            tendon.remove(spatial)\n",
    "            print(f\"成功移除名称为{spatial_name}的绳索元素。\")\n",
    "            return\n",
    "    print(f\"未找到名称为{spatial_name}的body元素。\")\n",
    "\n",
    "# 删除所有的绳索\n",
    "def remove_all_tendon(root):\n",
    "    tendon = root.find('tendon')\n",
    "    spatials = list(tendon.iter('spatial'))\n",
    "    for spatial in spatials:\n",
    "        tendon.remove(spatial)\n",
    "   "
   ]
  },
  {
   "cell_type": "markdown",
   "metadata": {},
   "source": [
    "# 底层函数示例"
   ]
  },
  {
   "cell_type": "code",
   "execution_count": 75,
   "metadata": {},
   "outputs": [
    {
     "name": "stdout",
     "output_type": "stream",
     "text": [
      "None\n",
      "20 20 0.125\n"
     ]
    }
   ],
   "source": [
    "# 示例：读取文件+获取文件信息\n",
    "tree = ET.parse(xml_path)\n",
    "root = tree.getroot()\n",
    "for geom in root.iter('geom'):\n",
    "    size = geom.get('size')\n",
    "    print(size)"
   ]
  },
  {
   "cell_type": "code",
   "execution_count": 76,
   "metadata": {},
   "outputs": [],
   "source": [
    "# 示例：生成杆件\n",
    "tree = ET.parse(xml_path)\n",
    "root = tree.getroot()\n",
    "generate_rod_element(root, \"rod0_1\", [0, 0, 2, 1, 2, 2])  \n",
    "prettify(root)\n",
    "tree.write(xml_path, encoding='utf-8', xml_declaration=True)"
   ]
  },
  {
   "cell_type": "code",
   "execution_count": 77,
   "metadata": {},
   "outputs": [
    {
     "name": "stdout",
     "output_type": "stream",
     "text": [
      "成功移除名称为rod0_1的body元素及其所有子元素。\n"
     ]
    }
   ],
   "source": [
    "# 示例：删除杆件\n",
    "tree = ET.parse(xml_path)\n",
    "root = tree.getroot()\n",
    "remove_body(root, \"rod0_1\")\n",
    "prettify(root)\n",
    "tree.write(xml_path, encoding='utf-8', xml_declaration=True)"
   ]
  },
  {
   "cell_type": "code",
   "execution_count": 78,
   "metadata": {},
   "outputs": [],
   "source": [
    "# 示例：生成绳索\n",
    "tree = ET.parse(xml_path)\n",
    "root = tree.getroot()\n",
    "generate_rod_element(root, \"rod0_1\", [0, 0, 0, 0, 0, 2])\n",
    "generate_rod_element(root, \"rod2_3\", [1, 0, 0, 1, 0, 2])\n",
    "generate_tendon_object(root, \"s1\", \"s3\")\n",
    "prettify(root)\n",
    "tree.write(xml_path, encoding='utf-8', xml_declaration=True)"
   ]
  },
  {
   "cell_type": "code",
   "execution_count": 79,
   "metadata": {},
   "outputs": [
    {
     "name": "stdout",
     "output_type": "stream",
     "text": [
      "成功移除名称为td1_3的绳索元素。\n"
     ]
    }
   ],
   "source": [
    "# 示例：删除特定绳索\n",
    "tree = ET.parse(xml_path)\n",
    "root = tree.getroot()\n",
    "remove_tendon(root, \"td1_3\")\n",
    "prettify(root)\n",
    "tree.write(xml_path, encoding='utf-8', xml_declaration=True)"
   ]
  },
  {
   "cell_type": "code",
   "execution_count": 80,
   "metadata": {},
   "outputs": [],
   "source": [
    "# 示例：删除所有的杆件\n",
    "tree = ET.parse(xml_path)\n",
    "root = tree.getroot()\n",
    "remove_all_body(root)\n",
    "prettify(root)\n",
    "tree.write(xml_path, encoding='utf-8', xml_declaration=True)"
   ]
  },
  {
   "cell_type": "code",
   "execution_count": 73,
   "metadata": {},
   "outputs": [],
   "source": [
    "# 示例：删除所有的绳索\n",
    "tree = ET.parse(xml_path)\n",
    "root = tree.getroot()\n",
    "remove_all_tendon(root)\n",
    "prettify(root)\n",
    "tree.write(xml_path, encoding='utf-8', xml_declaration=True)"
   ]
  },
  {
   "cell_type": "markdown",
   "metadata": {},
   "source": [
    "# 构建张拉整体结构\n",
    "1 定义所有节点位置，使用numpy列向量表示\\\n",
    "2 定义连接矩阵\\\n",
    "3 matplot绘图，确保正确\\\n",
    "4 整体位置偏移"
   ]
  },
  {
   "cell_type": "markdown",
   "metadata": {},
   "source": [
    "## Utilities"
   ]
  },
  {
   "cell_type": "code",
   "execution_count": 18,
   "metadata": {},
   "outputs": [],
   "source": [
    "def tenseg_ind2C(C_ind, Nodes):\n",
    "    \"\"\"\n",
    "    Creates a connectivity matrix from input index notation array and node matrix.\n",
    "\n",
    "    Inputs:\n",
    "        C_ind: index connectivity array (m x 2 array for m members)\n",
    "        Nodes: node matrix (3 x n array for n nodes)\n",
    "\n",
    "    Outputs:\n",
    "        C_mat: connectivity matrix (m x n matrix satisfying M = N*C')\n",
    "\n",
    "    Example: If given four nodes (N is a 3x4 matrix), and you want one bar to\n",
    "    be the vector from node 1 to 3, and another bar from node 2 to 4, input\n",
    "    C_ind would be: C_ind = np.array([[1, 3], [2, 4]])\n",
    "\n",
    "    C_b = tenseg_ind2C(np.array([[1, 3], [2, 4]]), N)\n",
    "    \"\"\"\n",
    "    nmembers = C_ind.shape[0]  # Number of members being created\n",
    "    n = Nodes.shape[1]  # Number of nodes in the structure\n",
    "\n",
    "    # Initialize connectivity matrix\n",
    "    C_mat = np.zeros((n, nmembers))\n",
    "\n",
    "    for i in range(nmembers):  # Go through each member\n",
    "        # Get indices for start and end points\n",
    "        side1 = C_ind[i, 0]\n",
    "        side2 = C_ind[i, 1]\n",
    "\n",
    "        # Put -1 at index for start point, 1 at index for end point\n",
    "        C_mat[side1 - 1, i] = -1\n",
    "        C_mat[side2 - 1, i] = 1\n",
    "\n",
    "    return C_mat.T\n",
    "\n",
    "def tenseg_plot(N, C_b, C_s, show_labels=False):\n",
    "    BarWidth = 2\n",
    "    StringWidth = 1\n",
    "    NodeSize = 25\n",
    "\n",
    "    # Get difference between min and max values for each axis\n",
    "    fig_out = plt.figure()\n",
    "    ax = fig_out.add_subplot(111, projection='3d')\n",
    "\n",
    "    # Plot bar member vectors\n",
    "    if len(C_b) > 0:\n",
    "        B = np.dot(N, C_b.T)\n",
    "        bar_start_nodes = np.zeros((3, B.shape[1]))\n",
    "        bar_end_nodes = np.zeros((3, B.shape[1]))\n",
    "        for j in range(B.shape[1]):\n",
    "            bar_start_nodes[:,j] = np.squeeze(N[:, C_b[j,:] == -1])\n",
    "            bar_end_nodes[:,j] = np.squeeze(N[:, C_b[j,:] == 1])\n",
    "\n",
    "        for j in range(B.shape[1]):\n",
    "            ax.plot([bar_start_nodes[0,j], bar_end_nodes[0,j]], [bar_start_nodes[1,j], bar_end_nodes[1,j]], [bar_start_nodes[2,j], bar_end_nodes[2,j]], color='black', linewidth=BarWidth)\n",
    "            if show_labels:\n",
    "                ax.text((bar_start_nodes[0,j] + bar_end_nodes[0,j])/2, (bar_start_nodes[1,j] + bar_end_nodes[1,j])/2, (bar_start_nodes[2,j] + bar_end_nodes[2,j])/2, str(j+1), color='black')\n",
    "        # ax.quiver(bar_start_nodes[0,:], bar_start_nodes[1,:], bar_start_nodes[2,:], B[0,:], B[1,:], B[2,:], color='black', linewidth=BarWidth)\n",
    "\n",
    "    # Plot string member vectors\n",
    "    if len(C_s) > 0:\n",
    "        S = np.dot(N, C_s.T)\n",
    "        string_start_nodes = np.zeros((3, S.shape[1]))\n",
    "        string_end_nodes = np.zeros((3, S.shape[1]))\n",
    "        for j in range(S.shape[1]):\n",
    "            string_start_nodes[:,j] = np.squeeze(N[:, C_s[j,:] == -1])\n",
    "            string_end_nodes[:,j] = np.squeeze(N[:, C_s[j,:] == 1])\n",
    "        for j in range(S.shape[1]):\n",
    "            ax.plot([string_start_nodes[0,j], string_end_nodes[0,j]], [string_start_nodes[1,j], string_end_nodes[1,j]], [string_start_nodes[2,j], string_end_nodes[2,j]], color='red', linewidth=StringWidth)\n",
    "            if show_labels:\n",
    "                ax.text((string_start_nodes[0,j] + string_end_nodes[0,j])/2, (string_start_nodes[1,j] + string_end_nodes[1,j])/2, (string_start_nodes[2,j] + string_end_nodes[2,j])/2, str(j+1), color='red')  # Add string labels\n",
    "\n",
    "    ax.scatter(N[0,:], N[1,:], N[2,:], color='blue', s=NodeSize)\n",
    "    if show_labels:\n",
    "        for i in range(N.shape[1]):\n",
    "            ax.text(N[0,i], N[1,i], N[2,i], str(i+1), color='blue')  # Add node labels\n",
    "    \n",
    "    ax.set_xlabel('x')\n",
    "    ax.set_ylabel('y')\n",
    "    ax.set_zlabel('z')\n",
    "    plt.show()\n",
    "        # ax.quiver(string_start_nodes[0,:], string_start_nodes[1,:], string_start_nodes[2,:], S[0,:], S[1,:], S[2,:], color='red', linestyle='-', linewidth=StringWidth)\n",
    "\n",
    "# 使所有节点整体移动一个距离\n",
    "def move_nodes(node_positions, x, y, z):\n",
    "    moved_positions = node_positions + np.array([[x], [y], [z]])\n",
    "    return moved_positions"
   ]
  },
  {
   "cell_type": "markdown",
   "metadata": {},
   "source": [
    "## 示例 构建Prism机构\n",
    "首先pyhon画出来，看是否准确"
   ]
  },
  {
   "cell_type": "code",
   "execution_count": 10,
   "metadata": {},
   "outputs": [
    {
     "data": {
      "image/png": "[encoded data removed]",
      "text/plain": [
       "<Figure size 640x480 with 1 Axes>"
      ]
     },
     "metadata": {},
     "output_type": "display_data"
    }
   ],
   "source": [
    "# Specify node positions\n",
    "N = np.array([[0.5, 0, 0], [0, 0.866, 0], [-0.5, 0, 0], [0.5, 0, 1], [0, 0.866, 1], [-0.5, 0, 1]]).T\n",
    "\n",
    "# Specify bar connectivity\n",
    "Cb_in = np.array([[3, 5], [1, 6], [2, 4]])  # Bar 1 connects node 3 to 5, etc\n",
    "C_b = tenseg_ind2C(Cb_in, N)\n",
    "\n",
    "# Specify string connectivity\n",
    "Cs_in = np.array([[1, 2], [2, 3], [3, 1], [4, 5], [5, 6], [6, 4], [1, 4], [2, 5], [3, 6]])  # String one is node 1 to 2\n",
    "C_s = tenseg_ind2C(Cs_in, N)\n",
    "\n",
    "# print(C_b)\n",
    "# print(C_s)\n",
    "# Plot structure before string segmentation\n",
    "tenseg_plot(N, C_b, C_s, show_labels=True)\n",
    "\n",
    "# print(move_nodes(N, 1,2,3))\n"
   ]
  },
  {
   "cell_type": "code",
   "execution_count": 40,
   "metadata": {},
   "outputs": [
    {
     "data": {
      "text/plain": [
       "3"
      ]
     },
     "execution_count": 40,
     "metadata": {},
     "output_type": "execute_result"
    }
   ],
   "source": []
  },
  {
   "cell_type": "markdown",
   "metadata": {},
   "source": [
    "## 加载到xml文件中去"
   ]
  },
  {
   "cell_type": "code",
   "execution_count": 19,
   "metadata": {},
   "outputs": [],
   "source": [
    "def load_tensegrity_to_xml(root, N, C_b, C_s):\n",
    "\n",
    "    remove_all_body(root)\n",
    "    remove_all_tendon(root)\n",
    "\n",
    "    if len(C_b) > 0:\n",
    "        B = np.dot(N, C_b.T)\n",
    "        bar_start_nodes = np.zeros((3, B.shape[1]))\n",
    "        bar_end_nodes = np.zeros((3, B.shape[1]))\n",
    "        for j in range(B.shape[1]):\n",
    "            bar_start_nodes[:,j] = np.squeeze(N[:, C_b[j,:] == -1])\n",
    "            bar_end_nodes[:,j] = np.squeeze(N[:, C_b[j,:] == 1])\n",
    "            print(bar_start_nodes[:,j])\n",
    "            print(bar_end_nodes[:,j])\n",
    "            generate_rod_element(root, rod_name=f'rod{np.argmax(C_b[j,:] == -1)}_{np.argmax(C_b[j,:] == 1)}', fromto_coords=bar_start_nodes[:, j].tolist()+bar_end_nodes[:, j].tolist())\n",
    "        # print(bar_start_nodes)\n",
    "        # print('\\n',bar_end_nodes)\n",
    "\n",
    "        # generate_rod_element(root, rod_name=f'rod{}')\n",
    "\n",
    "    # Plot string member vectors\n",
    "    if len(C_s) > 0:\n",
    "        S = np.dot(N, C_s.T)\n",
    "        for j in range(S.shape[1]):\n",
    "            generate_tendon_object(root, from_site_name=f's{np.argmax(C_s[j,:] == -1)}', to_site_name=f's{np.argmax(C_s[j,:] == 1)}')\n"
   ]
  },
  {
   "cell_type": "code",
   "execution_count": 20,
   "metadata": {},
   "outputs": [
    {
     "name": "stdout",
     "output_type": "stream",
     "text": [
      "[-0.5  0.   0. ]\n",
      "[0.    0.866 1.   ]\n",
      "[0.5 0.  0. ]\n",
      "[-0.5  0.   1. ]\n",
      "[0.    0.866 0.   ]\n",
      "[0.5 0.  1. ]\n"
     ]
    }
   ],
   "source": [
    "# Specify node positions\n",
    "N = np.array([[0.5, 0, 0], [0, 0.866, 0], [-0.5, 0, 0], [0.5, 0, 1], [0, 0.866, 1], [-0.5, 0, 1]]).T\n",
    "# N = move_nodes(N, 0, 0, 2)\n",
    "\n",
    "# Specify bar connectivity\n",
    "Cb_in = np.array([[3, 5], [1, 6], [2, 4]])  # Bar 1 connects node 3 to 5, etc\n",
    "C_b = tenseg_ind2C(Cb_in, N)\n",
    "\n",
    "\n",
    "# Specify string connectivity\n",
    "Cs_in = np.array([[1, 2], [2, 3], [3, 1], [4, 5], [5, 6], [6, 4], [1, 4], [2, 5], [3, 6]])  # String one is node 1 to 2\n",
    "C_s = tenseg_ind2C(Cs_in, N)\n",
    "\n",
    "\n",
    "tree = ET.parse(xml_path)\n",
    "root = tree.getroot()\n",
    "load_tensegrity_to_xml(root, N, C_b, C_s)\n",
    "\n",
    "prettify(root)\n",
    "tree.write(xml_path, encoding='utf-8', xml_declaration=True)\n"
   ]
  },
  {
   "cell_type": "markdown",
   "metadata": {},
   "source": [
    "# 其他"
   ]
  },
  {
   "cell_type": "code",
   "execution_count": 51,
   "metadata": {},
   "outputs": [
    {
     "name": "stdout",
     "output_type": "stream",
     "text": [
      "[[-0.5    0.5    0.   ]\n",
      " [ 0.     0.     0.866]\n",
      " [ 0.     0.     0.   ]]\n",
      "\n",
      " [[ 0.    -0.5    0.5  ]\n",
      " [ 0.866  0.     0.   ]\n",
      " [ 1.     1.     1.   ]]\n"
     ]
    }
   ],
   "source": [
    "B = np.dot(N, C_b.T)\n",
    "bar_start_nodes = np.zeros((3, B.shape[1]))\n",
    "bar_end_nodes = np.zeros((3, B.shape[1]))\n",
    "for j in range(B.shape[1]):\n",
    "    bar_start_nodes[:,j] = np.squeeze(N[:, C_b[j,:] == -1])\n",
    "    bar_end_nodes[:,j] = np.squeeze(N[:, C_b[j,:] == 1])\n",
    "    # generate_rod_element(root, rod_name=f'rod{}', fromto_coords=[])\n",
    "print(bar_start_nodes)\n",
    "print('\\n',bar_end_nodes)"
   ]
  },
  {
   "cell_type": "code",
   "execution_count": 56,
   "metadata": {},
   "outputs": [
    {
     "data": {
      "text/plain": [
       "[0.5, 0.0, 0.0, -0.5, 0.0, 1.0]"
      ]
     },
     "execution_count": 56,
     "metadata": {},
     "output_type": "execute_result"
    }
   ],
   "source": [
    "bar_start_nodes[:, 1].tolist()+bar_end_nodes[:, 1].tolist()"
   ]
  },
  {
   "cell_type": "code",
   "execution_count": 60,
   "metadata": {},
   "outputs": [
    {
     "name": "stdout",
     "output_type": "stream",
     "text": [
      "0\n"
     ]
    }
   ],
   "source": [
    "index = np.argmax(C_b[1,:] == -1)\n",
    "print(index)"
   ]
  },
  {
   "cell_type": "code",
   "execution_count": 24,
   "metadata": {},
   "outputs": [
    {
     "ename": "ValueError",
     "evalue": "matmul: Input operand 1 has a mismatch in its core dimension 0, with gufunc signature (n?,k),(k,m?)->(n?,m?) (size 3 is different from 13)",
     "output_type": "error",
     "traceback": [
      "\u001b[1;31m---------------------------------------------------------------------------\u001b[0m",
      "\u001b[1;31mValueError\u001b[0m                                Traceback (most recent call last)",
      "Cell \u001b[1;32mIn[24], line 6\u001b[0m\n\u001b[0;32m      4\u001b[0m N \u001b[38;5;241m=\u001b[39m np\u001b[38;5;241m.\u001b[39mconcatenate((temp, temp[:, [\u001b[38;5;241m2\u001b[39m, \u001b[38;5;241m0\u001b[39m, \u001b[38;5;241m1\u001b[39m]], temp[:, [\u001b[38;5;241m1\u001b[39m, \u001b[38;5;241m2\u001b[39m, \u001b[38;5;241m0\u001b[39m]], [[\u001b[38;5;241m0\u001b[39m, \u001b[38;5;241m0\u001b[39m, \u001b[38;5;241m0\u001b[39m]]), axis\u001b[38;5;241m=\u001b[39m\u001b[38;5;241m0\u001b[39m)\u001b[38;5;241m.\u001b[39mT\n\u001b[0;32m      5\u001b[0m N \u001b[38;5;241m=\u001b[39m N[:, [\u001b[38;5;241m1\u001b[39m, \u001b[38;5;241m3\u001b[39m, \u001b[38;5;241m5\u001b[39m, \u001b[38;5;241m7\u001b[39m, \u001b[38;5;241m9\u001b[39m, \u001b[38;5;241m11\u001b[39m, \u001b[38;5;241m0\u001b[39m, \u001b[38;5;241m2\u001b[39m, \u001b[38;5;241m4\u001b[39m, \u001b[38;5;241m6\u001b[39m, \u001b[38;5;241m8\u001b[39m, \u001b[38;5;241m10\u001b[39m, \u001b[38;5;241m12\u001b[39m]]\n\u001b[1;32m----> 6\u001b[0m N \u001b[38;5;241m=\u001b[39m N \u001b[38;5;241m-\u001b[39m \u001b[43mnp\u001b[49m\u001b[38;5;241;43m.\u001b[39;49m\u001b[43mones\u001b[49m\u001b[43m(\u001b[49m\u001b[43m(\u001b[49m\u001b[38;5;241;43m1\u001b[39;49m\u001b[43m,\u001b[49m\u001b[43m \u001b[49m\u001b[43mN\u001b[49m\u001b[38;5;241;43m.\u001b[39;49m\u001b[43mshape\u001b[49m\u001b[43m[\u001b[49m\u001b[38;5;241;43m1\u001b[39;49m\u001b[43m]\u001b[49m\u001b[43m)\u001b[49m\u001b[43m)\u001b[49m\u001b[43m \u001b[49m\u001b[38;5;241;43m@\u001b[39;49m\u001b[43m \u001b[49m\u001b[43mN\u001b[49m\u001b[43m[\u001b[49m\u001b[43m:\u001b[49m\u001b[43m,\u001b[49m\u001b[43m \u001b[49m\u001b[43m[\u001b[49m\u001b[38;5;241;43m0\u001b[39;49m\u001b[43m]\u001b[49m\u001b[43m]\u001b[49m\n\u001b[0;32m      9\u001b[0m \u001b[38;5;28mprint\u001b[39m(N)\n",
      "\u001b[1;31mValueError\u001b[0m: matmul: Input operand 1 has a mismatch in its core dimension 0, with gufunc signature (n?,k),(k,m?)->(n?,m?) (size 3 is different from 13)"
     ]
    }
   ],
   "source": [
    "\n",
    "phi = (1 + 5 ** 0.5) / 2\n",
    "temp = np.array([[0, -1, phi], [0, -1, -phi], [0, 1, phi], [0, 1, -phi]]) / (2 * phi)\n",
    "\n",
    "N = np.concatenate((temp, temp[:, [2, 0, 1]], temp[:, [1, 2, 0]], [[0, 0, 0]]), axis=0).T\n",
    "N = N[:, [1, 3, 5, 7, 9, 11, 0, 2, 4, 6, 8, 10, 12]]\n",
    "N = N - np.ones((1, N.shape[1])) @ N[:, [0]]\n",
    "\n",
    "\n",
    "print(N)"
   ]
  },
  {
   "cell_type": "code",
   "execution_count": 31,
   "metadata": {},
   "outputs": [
    {
     "name": "stdout",
     "output_type": "stream",
     "text": [
      "[[ 0.          0.         -0.5        -0.5        -0.30901699  0.30901699\n",
      "   0.          0.          0.5         0.5        -0.30901699  0.30901699\n",
      "   0.        ]\n",
      " [-0.30901699  0.30901699  0.          0.         -0.5        -0.5\n",
      "  -0.30901699  0.30901699  0.          0.          0.5         0.5\n",
      "   0.        ]\n",
      " [-0.5        -0.5        -0.30901699  0.30901699  0.          0.\n",
      "   0.5         0.5        -0.30901699  0.30901699  0.          0.\n",
      "   0.        ]]\n"
     ]
    }
   ],
   "source": [
    "import numpy as np\n",
    "\n",
    "phi = (1 + 5 ** 0.5) / 2\n",
    "temp = np.array([[0, -1, phi], [0, -1, -phi], [0, 1, phi], [0, 1, -phi]]) / (2 * phi)\n",
    "\n",
    "N = np.concatenate((temp, temp[:, [2, 0, 1]], temp[:, [1, 2, 0]], [[0, 0, 0]]), axis=0).T\n",
    "N = N[:, [1, 3, 5, 7, 9, 11, 0, 2, 4, 6, 8, 10, 12]]\n",
    "\n",
    "print(N)"
   ]
  },
  {
   "cell_type": "code",
   "execution_count": 33,
   "metadata": {},
   "outputs": [
    {
     "name": "stdout",
     "output_type": "stream",
     "text": [
      "[[-1. -0. -0. -0. -0. -0.  1.  0.  0.  0.  0.  0.  0.]\n",
      " [-0. -1. -0. -0. -0. -0.  0.  1.  0.  0.  0.  0.  0.]\n",
      " [-0. -0. -1. -0. -0. -0.  0.  0.  1.  0.  0.  0.  0.]\n",
      " [-0. -0. -0. -1. -0. -0.  0.  0.  0.  1.  0.  0.  0.]\n",
      " [-0. -0. -0. -0. -1. -0.  0.  0.  0.  0.  1.  0.  0.]\n",
      " [-0. -0. -0. -0. -0. -1.  0.  0.  0.  0.  0.  1.  0.]]\n"
     ]
    }
   ],
   "source": [
    "beta = 6  # There are 6 bars.\n",
    "Cb = np.hstack((-np.eye(beta), np.eye(beta), np.zeros((beta, 1))))\n",
    "\n",
    "print(Cb)"
   ]
  },
  {
   "cell_type": "code",
   "execution_count": 38,
   "metadata": {},
   "outputs": [
    {
     "name": "stdout",
     "output_type": "stream",
     "text": [
      "<re.Match object; span=(0, 3), match='s10'>\n",
      "10\n"
     ]
    }
   ],
   "source": [
    "\n",
    "to_site_name = 's10'  # 示例字符串，包含 s 后面的数字\n",
    "\n",
    "# 使用正则表达式匹配 s 后面的数字\n",
    "match = re.search(r's(\\d+)', to_site_name)\n",
    "print(match)\n",
    "number = int(match.group(1))  # 提取匹配的第一个分组，并转换为整数\n",
    "print(number)"
   ]
  },
  {
   "cell_type": "code",
   "execution_count": 1,
   "metadata": {},
   "outputs": [
    {
     "name": "stdout",
     "output_type": "stream",
     "text": [
      "{'name': 'John', 'age': 30, 'city': 'New York', 'occupation': 'Engineer'}\n"
     ]
    }
   ],
   "source": [
    "# 创建一个字典\n",
    "original_dict = {'name': 'John', 'age': 30}\n",
    "\n",
    "# 要扩展的字典\n",
    "new_data = {'city': 'New York', 'occupation': 'Engineer'}\n",
    "\n",
    "# 使用update()方法扩展字典\n",
    "original_dict.update(new_data)\n",
    "\n",
    "# 输出扩展后的字典\n",
    "print(original_dict)"
   ]
  },
  {
   "cell_type": "code",
   "execution_count": 6,
   "metadata": {},
   "outputs": [],
   "source": [
    "\n",
    "rod_element = []\n",
    "def generate_rod_element(rod_name:str, **kwargs):\n",
    "        rod_dict = {'name':rod_name}\n",
    "        rod_dict.update(kwargs)\n",
    "        rod_element.append(rod_dict)"
   ]
  },
  {
   "cell_type": "code",
   "execution_count": 8,
   "metadata": {},
   "outputs": [
    {
     "name": "stdout",
     "output_type": "stream",
     "text": [
      "[{'name': 'rod0_11', 'pos': '1 2 3', 'mass': '333'}, {'name': 'rod0_11', 'pos': '1 2 3', 'mass': '333'}, {'name': 'rod0_1', 'pos': '12 3', 'mass': '333'}]\n"
     ]
    }
   ],
   "source": [
    "generate_rod_element(rod_name=\"rod0_11\",pos='1 2 3',mass='333')\n",
    "generate_rod_element(rod_name=\"rod0_1\",pos='12 3',mass='333')\n",
    "\n",
    "print(rod_element)"
   ]
  },
  {
   "cell_type": "code",
   "execution_count": 9,
   "metadata": {},
   "outputs": [
    {
     "name": "stdout",
     "output_type": "stream",
     "text": [
      "[{'name': 'rod0_11', 'pos': '1 2 3', 'mass': '333'}]\n",
      "Rod with name 'rod0_11' already exists in rod_element.\n",
      "[{'name': 'rod0_11', 'pos': '1 2 3', 'mass': '333'}]\n"
     ]
    }
   ],
   "source": [
    "rod_element = []\n",
    "\n",
    "def generate_rod_element(rod_name: str, **kwargs):\n",
    "    # 检查 rod_name 对应的 rod 是否已经存在\n",
    "    for rod in rod_element:\n",
    "        if rod['name'] == rod_name:\n",
    "            print(f\"Rod with name '{rod_name}' already exists in rod_element.\")\n",
    "            return\n",
    "    \n",
    "    rod_dict = {'name': rod_name}\n",
    "    rod_dict.update(kwargs)\n",
    "    rod_element.append(rod_dict)\n",
    "\n",
    "generate_rod_element(rod_name=\"rod0_11\", pos='1 2 3', mass='333')\n",
    "print(rod_element)\n",
    "\n",
    "generate_rod_element(rod_name=\"rod0_11\", pos='4 5 6', mass='444')  # 尝试添加同名的 rod\n",
    "print(rod_element)"
   ]
  }
 ],
 "metadata": {
  "kernelspec": {
   "display_name": "python310",
   "language": "python",
   "name": "python3"
  },
  "language_info": {
   "codemirror_mode": {
    "name": "ipython",
    "version": 3
   },
   "file_extension": ".py",
   "mimetype": "text/x-python",
   "name": "python",
   "nbconvert_exporter": "python",
   "pygments_lexer": "ipython3",
   "version": "3.10.13"
  }
 },
 "nbformat": 4,
 "nbformat_minor": 2
}
