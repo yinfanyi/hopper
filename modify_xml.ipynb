{
 "cells": [
  {
   "cell_type": "code",
   "execution_count": 1,
   "metadata": {},
   "outputs": [],
   "source": [
    "import xml.etree.ElementTree as ET"
   ]
  },
  {
   "cell_type": "code",
   "execution_count": 7,
   "metadata": {},
   "outputs": [
    {
     "name": "stdout",
     "output_type": "stream",
     "text": [
      "10 1 0.1\n",
      ".1\n"
     ]
    }
   ],
   "source": [
    "# 解析XML文件\n",
    "xml_path = \"./xml/test.xml\"\n",
    "tree = ET.parse(xml_path)\n",
    "root = tree.getroot()\n",
    "\n",
    "# 查找需要修改的元素\n",
    "for geom in root.iter('geom'):\n",
    "    size = geom.get('size')\n",
    "    print(size)\n",
    "    if size == '.1':\n",
    "        geom.set('size', '.2')\n",
    "\n",
    "# 保存修改后的XML文件\n",
    "tree.write(xml_path)"
   ]
  },
  {
   "cell_type": "code",
   "execution_count": 8,
   "metadata": {},
   "outputs": [],
   "source": [
    "# 创建新的<body>子元素\n",
    "new_body = ET.Element('body')\n",
    "new_body.set('pos', '0 0 1')\n",
    "new_body.set('name', '333')\n",
    "\n",
    "joint = ET.Element('joint')\n",
    "joint.set('type', 'free')\n",
    "joint.set('name', '111')\n",
    "\n",
    "geom = ET.Element('geom')\n",
    "geom.set('type', 'sphere')\n",
    "geom.set('size', '.2')\n",
    "geom.set('rgba', '0 .9 0 1')\n",
    "\n",
    "new_body.append(joint)\n",
    "new_body.append(geom)\n",
    "\n",
    "# 将新的<body>子元素添加到<worldbody>的最后\n",
    "for worldbody in root.iter('worldbody'):\n",
    "    worldbody.append(new_body)\n",
    "\n",
    "tree.write(xml_path)\n"
   ]
  }
 ],
 "metadata": {
  "kernelspec": {
   "display_name": "python310",
   "language": "python",
   "name": "python3"
  },
  "language_info": {
   "codemirror_mode": {
    "name": "ipython",
    "version": 3
   },
   "file_extension": ".py",
   "mimetype": "text/x-python",
   "name": "python",
   "nbconvert_exporter": "python",
   "pygments_lexer": "ipython3",
   "version": "3.10.13"
  }
 },
 "nbformat": 4,
 "nbformat_minor": 2
}
